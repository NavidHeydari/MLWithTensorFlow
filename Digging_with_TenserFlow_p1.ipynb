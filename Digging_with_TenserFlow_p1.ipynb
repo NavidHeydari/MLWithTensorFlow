{
  "nbformat": 4,
  "nbformat_minor": 0,
  "metadata": {
    "colab": {
      "provenance": [],
      "authorship_tag": "ABX9TyMy1dZZw28QjD7UIoTOp4Ot",
      "include_colab_link": true
    },
    "kernelspec": {
      "name": "python3",
      "display_name": "Python 3"
    },
    "language_info": {
      "name": "python"
    }
  },
  "cells": [
    {
      "cell_type": "markdown",
      "metadata": {
        "id": "view-in-github",
        "colab_type": "text"
      },
      "source": [
        "<a href=\"https://colab.research.google.com/github/NavidHeydari/MLWithTensorFlow/blob/main/Digging_with_TenserFlow_p1.ipynb\" target=\"_parent\"><img src=\"https://colab.research.google.com/assets/colab-badge.svg\" alt=\"Open In Colab\"/></a>"
      ]
    },
    {
      "cell_type": "markdown",
      "source": [
        "#Importing the requiered tools"
      ],
      "metadata": {
        "id": "9mfc6SI8WYrY"
      }
    },
    {
      "cell_type": "code",
      "execution_count": 20,
      "metadata": {
        "id": "ysvryyshSbqy"
      },
      "outputs": [],
      "source": [
        "import tensorflow as tf\n",
        "from matplotlib import pyplot as plt\n",
        "import numpy as np\n"
      ]
    },
    {
      "cell_type": "markdown",
      "source": [
        "#loading sample data MNIST\n",
        "## download from MNIST\n",
        "## load the data into dataset object"
      ],
      "metadata": {
        "id": "J-3LL6KTWXeR"
      }
    },
    {
      "cell_type": "code",
      "source": [
        "mnist = tf.keras.datasets.mnist\n",
        "mnistData = mnist.load_data();"
      ],
      "metadata": {
        "id": "-LS-FWElV78h"
      },
      "execution_count": 21,
      "outputs": []
    },
    {
      "cell_type": "markdown",
      "source": [
        "#Spliting test and train datasets"
      ],
      "metadata": {
        "id": "I4KZTGC8WV4L"
      }
    },
    {
      "cell_type": "code",
      "source": [
        "(X_train,y_train),(X_test,y_test) = mnistData"
      ],
      "metadata": {
        "id": "E-Z3NpFgW6OE"
      },
      "execution_count": 22,
      "outputs": []
    },
    {
      "cell_type": "markdown",
      "source": [
        "#PreProcessing Step:\n",
        "##Visualization of the sample data"
      ],
      "metadata": {
        "id": "2qSF8MQeXvs4"
      }
    },
    {
      "cell_type": "code",
      "source": [
        "plt.figure() #defining a figure obj\n",
        "plt.imshow(X_train[4]) #show the 4th object in that collection\n",
        "plt.colorbar() # show the color bars close to the pic\n",
        "plt.show() #paint the pic in the output\n"
      ],
      "metadata": {
        "colab": {
          "base_uri": "https://localhost:8080/",
          "height": 430
        },
        "id": "pfFexu_rXyRO",
        "outputId": "746081c2-da86-4514-b9e1-83320b3cd3c5"
      },
      "execution_count": 23,
      "outputs": [
        {
          "output_type": "display_data",
          "data": {
            "text/plain": [
              "<Figure size 640x480 with 2 Axes>"
            ],
            "image/png": "[encoded data removed]"
          },
          "metadata": {}
        }
      ]
    },
    {
      "cell_type": "markdown",
      "source": [
        "## Prepare the Data for processing -- Scaling from 256 image into a [0-1 range]"
      ],
      "metadata": {
        "id": "UIDtVl-qYX2f"
      }
    },
    {
      "cell_type": "code",
      "source": [
        "X_train,X_test = X_train/255.0, X_test/255.0"
      ],
      "metadata": {
        "id": "6RpafHvHYeTN"
      },
      "execution_count": 24,
      "outputs": []
    },
    {
      "cell_type": "markdown",
      "source": [
        "## Creat NN --> define our Model"
      ],
      "metadata": {
        "id": "DUYMkLOydzlW"
      }
    },
    {
      "cell_type": "code",
      "source": [
        "# Creating the model -- using Keras Sequentilal since that's the numerical categorical numbers in the data dataset\n",
        "model = tf.keras.models.Sequential(\n",
        "    [\n",
        "        tf.keras.layers.Flatten(input_shape=(28,28)), # flattening the input shape data so it can get fed into the fist layer\n",
        "        tf.keras.layers.Dense(512, activation='relu'), # numbers are in the range of 512 categories --> I thoughr we scaled them down into 0-9??\n",
        "        tf.keras.layers.Dropout(0.2), # prevent overfitting --> randomly set input to 0s --> using the rate 20%\n",
        "        tf.keras.layers.Dense(10, activation='softmax') # the output range will include only 10 categories == numbers in range 0 up to 9 | softmax for categorical data\n",
        "    ]\n",
        ")"
      ],
      "metadata": {
        "id": "czaoz-OEY6YZ"
      },
      "execution_count": 25,
      "outputs": []
    },
    {
      "cell_type": "markdown",
      "source": [
        "## Compile the model"
      ],
      "metadata": {
        "id": "fB767UAbd6Pm"
      }
    },
    {
      "cell_type": "code",
      "source": [
        "model.compile(optimizer='sgd',loss='sparse_categorical_crossentropy',metrics=['accuracy'])"
      ],
      "metadata": {
        "id": "_8aGLSDZd9QX"
      },
      "execution_count": 26,
      "outputs": []
    },
    {
      "cell_type": "markdown",
      "source": [
        "# Training Steps: train the model with the data -- fit method"
      ],
      "metadata": {
        "id": "GaOuRH19eTM2"
      }
    },
    {
      "cell_type": "code",
      "source": [
        "model.fit(X_train,y_train,epochs=5,validation_split=0.2)"
      ],
      "metadata": {
        "colab": {
          "base_uri": "https://localhost:8080/"
        },
        "id": "ktRHliaeeXlm",
        "outputId": "03f81809-c97f-40aa-d9ef-ffa3f438c700"
      },
      "execution_count": 27,
      "outputs": [
        {
          "output_type": "stream",
          "name": "stdout",
          "text": [
            "Epoch 1/5\n",
            "1500/1500 [==============================] - 12s 8ms/step - loss: 0.7020 - accuracy: 0.8222 - val_loss: 0.3645 - val_accuracy: 0.9021\n",
            "Epoch 2/5\n",
            "1500/1500 [==============================] - 12s 8ms/step - loss: 0.3710 - accuracy: 0.8976 - val_loss: 0.2967 - val_accuracy: 0.9194\n",
            "Epoch 3/5\n",
            "1500/1500 [==============================] - 14s 9ms/step - loss: 0.3138 - accuracy: 0.9113 - val_loss: 0.2615 - val_accuracy: 0.9261\n",
            "Epoch 4/5\n",
            "1500/1500 [==============================] - 16s 10ms/step - loss: 0.2783 - accuracy: 0.9217 - val_loss: 0.2375 - val_accuracy: 0.9316\n",
            "Epoch 5/5\n",
            "1500/1500 [==============================] - 19s 13ms/step - loss: 0.2523 - accuracy: 0.9298 - val_loss: 0.2191 - val_accuracy: 0.9381\n"
          ]
        },
        {
          "output_type": "execute_result",
          "data": {
            "text/plain": [
              "<keras.src.callbacks.History at 0x7a07fe657010>"
            ]
          },
          "metadata": {},
          "execution_count": 27
        }
      ]
    },
    {
      "cell_type": "markdown",
      "source": [
        "## Evaluation Steps of the model"
      ],
      "metadata": {
        "id": "5EUfYNVofGf8"
      }
    },
    {
      "cell_type": "code",
      "source": [
        "test_loss,test_accuracy = model.evaluate(X_test,y_test)\n",
        "print(\"test accuracy:\", test_accuracy)\n",
        "print('test loss:', test_loss)"
      ],
      "metadata": {
        "colab": {
          "base_uri": "https://localhost:8080/"
        },
        "id": "m8L40SZ1fFS8",
        "outputId": "e465bae0-272f-43e0-fc97-d3c09784b671"
      },
      "execution_count": 28,
      "outputs": [
        {
          "output_type": "stream",
          "name": "stdout",
          "text": [
            "313/313 [==============================] - 3s 8ms/step - loss: 0.2202 - accuracy: 0.9395\n",
            "test accuracy: 0.9394999742507935\n",
            "test loss: 0.22020256519317627\n"
          ]
        }
      ]
    },
    {
      "cell_type": "markdown",
      "source": [
        "#Verification of the model\n",
        "## Verifiying the Result of Trained Model on the randomly selected image"
      ],
      "metadata": {
        "id": "Ol7iRY6ZhNLy"
      }
    },
    {
      "cell_type": "code",
      "source": [
        "single_test_img = X_test[4]\n",
        "single_test_img = np.array(single_test_img,dtype='float')\n",
        "plt.imshow(single_test_img)\n",
        "plt.show()"
      ],
      "metadata": {
        "colab": {
          "base_uri": "https://localhost:8080/",
          "height": 430
        },
        "id": "R0utUivNg1LM",
        "outputId": "bf6f3724-945d-4634-be3d-b8bdc2463c75"
      },
      "execution_count": 31,
      "outputs": [
        {
          "output_type": "display_data",
          "data": {
            "text/plain": [
              "<Figure size 640x480 with 1 Axes>"
            ],
            "image/png": "[encoded data removed]"
          },
          "metadata": {}
        }
      ]
    },
    {
      "cell_type": "markdown",
      "source": [
        "## predicting above item via our model to make a sense of the data\n"
      ],
      "metadata": {
        "id": "KbojwRY5hXSS"
      }
    },
    {
      "cell_type": "code",
      "source": [
        "single_test_img = (np.expand_dims(single_test_img,0))\n",
        "pred = model.predict(single_test_img)\n",
        "actual_predicted_number_from_image = np.argmax(pred[0])\n",
        "print(pred)\n",
        "print('----------')\n",
        "print('actual predicted value via our model:', actual_predicted_number_from_image)"
      ],
      "metadata": {
        "colab": {
          "base_uri": "https://localhost:8080/"
        },
        "id": "RWyIsQnphf6Y",
        "outputId": "9dcba66f-403b-4bb5-865a-780804be0c76"
      },
      "execution_count": 32,
      "outputs": [
        {
          "output_type": "stream",
          "name": "stdout",
          "text": [
            "1/1 [==============================] - 0s 25ms/step\n",
            "[[8.9742069e-04 6.7613561e-05 5.7515171e-03 3.3202322e-04 9.1884226e-01\n",
            "  1.3554862e-03 5.7868781e-03 6.7554847e-03 5.8535812e-03 5.4357812e-02]]\n",
            "----------\n",
            "actual predicted value via our model: 4\n"
          ]
        }
      ]
    },
    {
      "cell_type": "markdown",
      "source": [
        "# Save the Model"
      ],
      "metadata": {
        "id": "vb3uX_VmiNqB"
      }
    },
    {
      "cell_type": "code",
      "source": [
        "model.save('picture_prediction_model.h5')"
      ],
      "metadata": {
        "colab": {
          "base_uri": "https://localhost:8080/"
        },
        "id": "1xnWgWUYiQ0R",
        "outputId": "a2478c81-1178-4d21-c5e2-0a375399e4fd"
      },
      "execution_count": 33,
      "outputs": [
        {
          "output_type": "stream",
          "name": "stderr",
          "text": [
            "/usr/local/lib/python3.10/dist-packages/keras/src/engine/training.py:3103: UserWarning: You are saving your model as an HDF5 file via `model.save()`. This file format is considered legacy. We recommend using instead the native Keras format, e.g. `model.save('my_model.keras')`.\n",
            "  saving_api.save_model(\n"
          ]
        }
      ]
    }
  ]
}